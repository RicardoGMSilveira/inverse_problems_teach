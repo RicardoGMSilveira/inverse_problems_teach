{
 "cells": [
  {
   "cell_type": "code",
   "execution_count": 1,
   "id": "1c379b72",
   "metadata": {},
   "outputs": [],
   "source": [
    "import numpy as np # arrays\n",
    "import matplotlib.pyplot as plt # plots\n",
    "plt.rcParams.update({'font.size': 14})\n",
    "import IPython.display as ipd # to play signals\n",
    "np.set_printoptions(precision=5)\n",
    "\n",
    "import cvxpy as cp"
   ]
  },
  {
   "attachments": {
    "probinv_conceito.png": {
     "image/png": "[encoded data removed]"
    }
   },
   "cell_type": "markdown",
   "id": "1cacd649",
   "metadata": {},
   "source": [
    "# Introdução e motivação\n",
    "\n",
    "\n",
    "Um problema inverso em ciência é o processo de calcular, a partir de um conjunto de observações $\\textbf{b}$, os fatores causais que as produziram $\\textbf{x}$. No cerne do problema está um modelo, frequentemente expressado por uma matriz $\\textbf{A}$, de forma que:\n",
    "\n",
    "\\begin{equation}\n",
    "\\textbf{A} \\textbf{x} = \\textbf{b}\n",
    "\\end{equation}\n",
    "\n",
    "A gente tem $\\textbf{b}$. Pra chegar a $\\textbf{x}$ precisamos achar uma forma sensata de obter $\\textbf{A}^{-1}$ - o que nem sempre é fácil.\n",
    "\n",
    "Problemas desse tipo estão em várias áreas:\n",
    "- o cálculo de uma imagem em tomografia computorizada\n",
    "- ultrassonografia para exames médicos\n",
    "- o cálculo da densidade da Terra a partir de medições do seu campo gravitacional;\n",
    "- Análise de propriedades do campo acústico\n",
    "\n",
    "Os problemas inversos são alguns dos problemas matemáticos mais importantes nas ciências e na matemática porque nos informam sobre parâmetros que não podemos observar diretamente.\n",
    "\n",
    "![probinv_conceito.png](attachment:probinv_conceito.png)\n",
    "\n",
    "\n",
    "Os problemas inversos, por sua vez, pertencem à classe dos problemas mal postos (**ill-posed**). O termo foi foi cunhado no início do século XX por Hadamard, que trabalhou em problemas de física matemática, e ele acreditava que os problemas mal colocados não modelam problemas do mundo real (ele estava errado). A definição de Hadamard diz que um problema linear é bem colocado (**well-posed**) se satisfizer os três requisitos seguintes:\n",
    "\n",
    "- **Existência:** O problema deve ter uma solução (única). \n",
    "- **Singularidade da solução (uniquiness):** Deve haver apenas uma solução para o problema. \n",
    "- **Estabilidade:** A solução deve depender continuamente dos dados.\n",
    "\n",
    "Se o problema não satisfazer qualquer uma dessas condições ele é dito **ill-posed** - o que é muito frequente quando você quer estimar coisas que não mede diretamente.\n",
    "\n",
    "Vamos considerar alguns sistemas de equações. \n",
    "\n",
    "# Well-posed\n",
    "\n",
    "\n",
    "\\begin{gather}\n",
    "\\begin{bmatrix} 1.00 &3.00 \\\\ 2.70 & 1.80 \\end{bmatrix} \\ \\textbf{x} = \n",
    "\\begin{bmatrix} 1.00 \\\\ 2.20  \\end{bmatrix}\n",
    "\\end{gather}\n",
    "\n",
    "Neste caso, o sistema a matriz $\\textbf{A}$ tem uma inversa e o sistema uma solução exata. O erro vai ser pequeno e de natureza numérica. Você pode calcular o resído com a norma $\\ell^2$ da diferença entre $\\textbf{Ax}$ e $\\textbf{b}$:\n",
    "\n",
    "\\begin{equation}\n",
    "\\left\\|\\textbf{Ax-b}\\right\\|_{2}\n",
    "\\end{equation}"
   ]
  },
  {
   "cell_type": "code",
   "execution_count": 33,
   "id": "1a63cd0a",
   "metadata": {},
   "outputs": [
    {
     "name": "stdout",
     "output_type": "stream",
     "text": [
      "Medição: [1.  2.2]\n",
      "Modelo:\n",
      " [[1.  3. ]\n",
      " [2.7 1.8]]\n",
      "Inversa:\n",
      " [[-0.28571  0.47619]\n",
      " [ 0.42857 -0.15873]]\n",
      "Sol: [0.7619  0.07937]\n",
      "Norma da sol: 0.766027\n",
      "Norma do resíduo: 0.0000000000000004\n"
     ]
    }
   ],
   "source": [
    "# Measurement\n",
    "b = np.array([1, 2.2])\n",
    "\n",
    "# Model\n",
    "A = np.array([[1.00, 3.00],[2.70, 1.80]])\n",
    "\n",
    "# Inverse matrix\n",
    "Ainv = np.linalg.inv(A)\n",
    "\n",
    "# Solution\n",
    "x = Ainv @ b\n",
    "\n",
    "print(\"Medição: {}\".format(b))\n",
    "print(\"Modelo:\\n {}\".format(A))\n",
    "print(\"Inversa:\\n {}\".format(Ainv))\n",
    "print(\"Sol: {}\".format(x))\n",
    "print(\"Norma da sol: {:.6f}\".format(np.linalg.norm(x)))\n",
    "print(\"Norma do resíduo: {:.16f}\".format(np.linalg.norm(A@x-b)))\n"
   ]
  },
  {
   "cell_type": "markdown",
   "id": "235fa5e3",
   "metadata": {},
   "source": [
    "# E se $\\textbf{A}$ for quase-singular?\n",
    "\n",
    "Uma matrix $\\textbf{A}$ é singular quando suas linhas (ou colunas) são linearmente relacionadas. Por exemplo:\n",
    "\n",
    "\\begin{gather}\n",
    "\\begin{bmatrix} 1.00 & 3.00 \\\\ 1.01 & 2.98 \\end{bmatrix} \\ \\textbf{x} = \n",
    "\\begin{bmatrix} 1 \\\\ 2.2  \\end{bmatrix}\n",
    "\\end{gather}\n",
    "\n",
    "Isso significa que é muito difícil achar uma solução estável para o sistema de equações. Note que a matriz inversa tem entradas bastante grandes e que a solução ingênua (**inv**) tem uma norma **muito grande**. Aqui estamos lidando com entes puramente matemáticos, mas muitas vezes uma solução com uma norma muito grande não é fisicamente realista. Por exemplo, você tenta estimar a amplitudes de fontes e elas retornam amplitudes excessivamente grandes."
   ]
  },
  {
   "cell_type": "code",
   "execution_count": 13,
   "id": "27580bc1",
   "metadata": {},
   "outputs": [
    {
     "name": "stdout",
     "output_type": "stream",
     "text": [
      "Modelo:\n",
      " [[1.   3.  ]\n",
      " [1.01 2.98]]\n",
      "Inversa:\n",
      " [[-59.6  60. ]\n",
      " [ 20.2 -20. ]]\n",
      "Sol: [ 72.4 -23.8]\n",
      "Norma da sol: 76.21154768143731\n",
      "Norma do resíduo: 0.0000000000000027\n"
     ]
    }
   ],
   "source": [
    "A[1,:] = A[0,:] + np.array([0.01, -0.02])\n",
    "# Inverse matrix\n",
    "Ainv = np.linalg.inv(A)\n",
    "# Solution\n",
    "x = Ainv @ b\n",
    "\n",
    "print(\"Modelo:\\n {}\".format(A))\n",
    "print(\"Inversa:\\n {}\".format(Ainv))\n",
    "print(\"Sol: {}\".format(x))\n",
    "print(\"Norma da sol: {}\".format(np.linalg.norm(x)))\n",
    "print(\"Norma do resíduo: {:.16f}\".format(np.linalg.norm(A@x-b)))"
   ]
  },
  {
   "cell_type": "markdown",
   "id": "075d0e86",
   "metadata": {},
   "source": [
    "# E se adicionarmos ruído à medição?\n",
    "\n",
    "No caso anterior, nós medimos $\\textbf{b}$ perfeitamente. Mas isto não é realista. No mundo real, as medições tem ruído e inverteza. Vamos investigar o caso em que\n",
    "\n",
    "\\begin{equation}\n",
    "\\textbf{b}_n = \\textbf{b} + \\textbf{n}\n",
    "\\end{equation}\n",
    "\n",
    "em que $\\textbf{n}$ tem, geralmente, natureza aleatória. Cada vez que medimos $\\textbf{n}$ é diferente. Podemos investigar dois casos. \n",
    "\n",
    "- No primeiro, a matriz $\\textbf{A}$, que representa nosso modelo de mundo, é bem condicionada\n",
    "\n",
    "\\begin{gather}\n",
    "\\begin{bmatrix} 1.00 &3.00 \\\\ 2.70 & 1.80 \\end{bmatrix} \\ \\textbf{x} = \n",
    "\\textbf{b + n}\n",
    "\\end{gather}\n",
    "\n",
    "- No segundo, a matriz $\\textbf{A}$ é mal condicionada\n",
    "\n",
    "\\begin{gather}\n",
    "\\begin{bmatrix} 1.00 & 3.00 \\\\ 1.01 & 2.98 \\end{bmatrix} \\ \\textbf{x} = \n",
    "\\textbf{b + n}\n",
    "\\end{gather}"
   ]
  },
  {
   "cell_type": "code",
   "execution_count": 51,
   "id": "09a92844",
   "metadata": {},
   "outputs": [],
   "source": [
    "# Model - Caso 1\n",
    "#A = np.array([[1.00, 3.00],[2.70, 1.80]])\n",
    "\n",
    "# Model - Caso 2\n",
    "A = np.array([[1.00, 3.00],[1.01, 2.98]])\n",
    "\n",
    "# Inverse matrix\n",
    "Ainv = np.linalg.inv(A)"
   ]
  },
  {
   "cell_type": "code",
   "execution_count": 59,
   "id": "4cdc8164",
   "metadata": {},
   "outputs": [
    {
     "name": "stdout",
     "output_type": "stream",
     "text": [
      "Noise: [-0.06525 -0.09706]\n",
      "True Solution: [0.7619  0.07937]\n",
      "Solution of noisy: [ 70.4652  -23.17682]\n",
      "Norma do resíduo: 0.1169595992109533\n",
      "Erro absoluto: [69.7033  23.25618]\n"
     ]
    }
   ],
   "source": [
    "n = np.random.normal(loc = 0.0, scale = 0.05, size = len(b))\n",
    "bn = b + n\n",
    "xn = Ainv @ bn\n",
    "print(\"Noise: {}\".format(n))\n",
    "print(\"True Solution: {}\".format(x))\n",
    "print(\"Solution of noisy: {}\".format(xn))\n",
    "print(\"Norma do resíduo: {:.16f}\".format(np.linalg.norm(A@xn-b)))\n",
    "print(\"Erro absoluto: {}\".format(np.abs(x-xn)))"
   ]
  },
  {
   "cell_type": "markdown",
   "id": "e6522a54",
   "metadata": {},
   "source": [
    "# 1. Existência\n",
    "\n",
    "É fácil formular problemas que não tem uma solução.\n",
    "\n",
    "\\begin{gather}\n",
    "\\begin{bmatrix} 1 \\\\ 2 \\end{bmatrix} \\ x\n",
    " =\n",
    "  \\begin{bmatrix}\n",
    "   1 \\\\\n",
    "   2.2 \n",
    "   \\end{bmatrix}\n",
    "\\end{gather}\n",
    "\n",
    "Este problema tem **quantas equções** e **quantas incógnitas**?\n",
    "\n",
    "- $x = 1$ ?\n",
    "\n",
    "- $2x = 2.2, \\ \\ \\ x = 1.1$ ?\n",
    "\n",
    "### Uma solução é estimar uma solução com mínimos quadrados:\n",
    "\n",
    "\\begin{equation}\n",
    "\\tilde{x} = \\text{min}(\\left\\|\\textbf{Ax-b}\\right\\|^{2}_{2})\n",
    "\\end{equation}\n",
    "\n",
    "em que estamos minimizando a norma $\\ell_2$ do quadrado de uma diferença entre o que o modelo prediz, $\\textbf{Ax}$, e o que medimos, $\\textbf{b}$, (**Resíduo**). Tal solução é equivalente ao seguinte (para o caso acima):\n",
    "\n",
    "\\begin{equation}\n",
    "\\frac{d(\\left\\|\\textbf{Ax-b}\\right\\|^{2}_{2})}{dx} = 0\n",
    "\\end{equation}\n",
    "\n",
    "\\begin{equation}\n",
    "\\tilde{x}=\\frac{a_{11} b_1 + a_{21} b_2}{a_{11}^{2}+a_{21}^{2}}\n",
    "\\end{equation}\n",
    "\n",
    "Mas isso não é muito interessante, já que o problema tem uma dimensionalidade bem pequena. Podemos ser mais generalistas.\n",
    "\n",
    "Seja $\\textbf{A}$ uma matrix $M \\times L$, e $\\textbf{b}$ um vetor $M \\times 1$, de forma que $\\textbf{x}$ é $L \\times 1$. Multiplicamos os dois lados da equação $\\textbf{A x} = \\textbf{b}$ por $\\textbf{A}^{T}$ (pela esquerda). Assim:\n",
    "\n",
    "\\begin{equation}\n",
    "\\textbf{A}^T\\textbf{A x} = \\textbf{A}^T\\textbf{b}\n",
    "\\end{equation}\n",
    "\n",
    "O que significa que podemos achar uma aproximação para $\\textbf{x}$ como\n",
    "\n",
    "\\begin{equation}\n",
    "\\tilde{x} = (\\textbf{A}^T\\textbf{A})^{-1}\\textbf{A}^T\\textbf{b}\n",
    "\\end{equation}\n",
    "\n",
    "desde que $(\\textbf{A}^T\\textbf{A})^{-1}$ exista."
   ]
  },
  {
   "cell_type": "code",
   "execution_count": 60,
   "id": "3b8ac2bc",
   "metadata": {},
   "outputs": [
    {
     "name": "stdout",
     "output_type": "stream",
     "text": [
      "Medição: [0.86692 2.1495 ]\n",
      "Modelo:\n",
      " [[1]\n",
      " [2]]\n",
      "Sol 1: 1.03319\n",
      "Sol 2: 1.03319\n",
      "Sol 2: 1.03319\n",
      "Rank of A: 1\n"
     ]
    }
   ],
   "source": [
    "# Measurement\n",
    "b = np.array([1.0, 2.2])\n",
    "\n",
    "# noise\n",
    "n = np.random.normal(loc = 0.0, scale = 0.1, size = len(b))\n",
    "b = b + n\n",
    "\n",
    "# Model\n",
    "A = np.array([[1],[2]])\n",
    "\n",
    "# Solution 1\n",
    "\n",
    "x1 = (np.linalg.inv(A.T @ A)) @ A.T @ b\n",
    "\n",
    "# Solution 2\n",
    "\n",
    "x2 = (A[0,0]*b[0] + A[1,0]*b[1]) / (A[0,0]**2 + A[1,0]**2)\n",
    "\n",
    "\n",
    "# Solution 2\n",
    "x3, residuals, rank , sigmas = np.linalg.lstsq(A, b, rcond = None)\n",
    "\n",
    "print(\"Medição: {}\".format(b))\n",
    "print(\"Modelo:\\n {}\".format(A))\n",
    "print(\"Sol 1: {0:.5f}\".format(x1[0]))\n",
    "print(\"Sol 2: {0:.5f}\".format(x2))\n",
    "print(\"Sol 3: {0:.5f}\".format(x3[0]))\n",
    "print(\"Rank of A: {}\".format(rank))"
   ]
  },
  {
   "cell_type": "markdown",
   "id": "b7cefdc0",
   "metadata": {},
   "source": [
    "# Over-determined vs. Under-determined\n",
    "\n",
    "Nos problemas vistos anteriormente tinhamos mais equações que incógnitas. Neste caso se $\\textbf{A}$ é $M \\times L$, com $M > L$ temos, em geral, um sistema super-determinado (**over-determined**). Apenas atente se as linhas (ou colunas) de $\\textbf{A}$ são linearmente independentes."
   ]
  },
  {
   "cell_type": "code",
   "execution_count": 61,
   "id": "44fa7699",
   "metadata": {},
   "outputs": [
    {
     "name": "stdout",
     "output_type": "stream",
     "text": [
      "Shape de A: (2, 2)\n",
      "Rank 1: 2\n",
      "Rank 2: 1\n"
     ]
    }
   ],
   "source": [
    "A = np.array([[1.0, 3.0],[2.7, 1.8]])\n",
    "rank1 = np.linalg.matrix_rank(A)\n",
    "\n",
    "#A[1,:] = 5.3*A[0,:] # linha linearmente relacionada\n",
    "A[:,1] = 5.3*A[:,0] # coluna linearmente relacionada\n",
    "rank2 = np.linalg.matrix_rank(A)\n",
    "\n",
    "print(\"Shape de A: {}\".format(A.shape))\n",
    "print(\"Rank 1: {}\".format(rank1))\n",
    "print(\"Rank 2: {}\".format(rank2))"
   ]
  },
  {
   "cell_type": "markdown",
   "id": "0f600a04",
   "metadata": {},
   "source": [
    "Sistemas Sub-determinados **(under-determined)** são aqueles em que temos menos equações que incónitas. Note, por exemplo, que quando fizemos a linha 2 (ou coluna 2) de $\\textbf{A}$ linearmente dependente da linha 1 (ou coluna 1) que o $\\text{rank}(A) = 1$. Essencialmente, ao invés de 2 equações e 2 incógnitas, temos agora 1 equação e 2 incógnitas. Nestes casos há infinitas soluções para o sistema de equações.\n",
    "\n",
    "# 1. Singularidade da solução\n",
    "\n",
    "Nós podemos impor alguma outra condição para a solução. Por exemplo, considere o problema\n",
    "\n",
    "\\begin{equation}\n",
    "x_1 + x_2 = 1 \n",
    "\\end{equation}\n",
    "\n",
    "ou de forma matricial\n",
    "\n",
    "\\begin{gather}\n",
    "\\begin{bmatrix} 1.0 &  1.0 \\end{bmatrix} \\ \\begin{bmatrix} x_1 \\\\ x_2 \\end{bmatrix}\n",
    " =\n",
    "  1.0\n",
    "\\end{gather}\n",
    "\n",
    "Como reformular o problema de maneira sensata? Vamos pensar no seguinte:\n",
    "\n",
    "\\begin{equation}\n",
    "\\text{min}(\\left\\|\\textbf{x}\\right\\|^{2}_{2}), \\ \\ \\, \\text{subjected to} \\ \\ \\ \\textbf{Ax -  b} = 0\n",
    "\\end{equation}\n",
    "\n",
    "Conseguimos montar o problema linear usando o multiplicador de Lagrange, que funciona da seguinte forma:\n",
    "\n",
    "\\begin{equation}\n",
    "\\text{min}(f(\\textbf{x})), \\ \\ \\, \\text{subjected to} \\ \\ \\ g(\\textbf{x}) = 0\n",
    "\\end{equation}\n",
    "\n",
    "A função de Lagrange é\n",
    "\n",
    "\\begin{equation}\n",
    "\\mathcal{L}(\\textbf{x}, \\lambda) = f(\\textbf{x}) + \\lambda g(\\textbf{x})\n",
    "\\end{equation}\n",
    "\n",
    "Precisamos encontrar:\n",
    "\n",
    "\\begin{equation}\n",
    "\\frac{\\partial \\mathcal{L}(\\textbf{x}, \\lambda)}{\\partial x_1} = 0, \\ \\ \\ \\frac{\\partial \\mathcal{L}(\\textbf{x}, \\lambda)}{\\partial x_2} = 0, \\ \\ \\ \\frac{\\partial \\mathcal{L}(\\textbf{x}, \\lambda)}{\\partial \\lambda} = 0 \n",
    "\\end{equation}\n",
    "\n",
    "\n",
    "\\begin{equation}\n",
    "    \\begin{cases}\n",
    "      \\frac{\\partial \\mathcal{L}(\\textbf{x}, \\lambda)}{\\partial \\lambda} = g(\\textbf{x}) = 0  \\\\\n",
    "      \\frac{\\partial f(\\textbf{x})}{\\partial x_1} + \\lambda \\frac{\\partial g(\\textbf{x})}{\\partial x_1} = 0  \\\\\n",
    "      \\frac{\\partial f(\\textbf{x})}{\\partial x_2} + \\lambda \\frac{\\partial g(\\textbf{x})}{\\partial x_2} = 0\n",
    "    \\end{cases}\\\n",
    "\\end{equation}\n",
    "\n",
    "No nosso exemplo $f(\\textbf{x}) = \\left\\|\\textbf{x}\\right\\|^{2}_{2} = \\sqrt{x_{1}^{2}+x_{2}^{2}}$, com $\\frac{\\partial f(\\textbf{x})}{\\partial x_1} = \\frac{x_1}{\\sqrt{x_{1}^{2}+x_{2}^{2}}}$ e $\\frac{\\partial f(\\textbf{x})}{\\partial x_2} = \\frac{x_2}{\\sqrt{x_{1}^{2}+x_{2}^{2}}}$.\n",
    "\n",
    "Já  $g(\\textbf{x}) = \\textbf{Ax -  b} = x_1 + x_2 - 1$, com $\\frac{\\partial g(\\textbf{x})}{\\partial x_1} =\\frac{\\partial g(\\textbf{x})}{\\partial x_2} = 1$.\n",
    "\n",
    "Assim, de um sistema com 1 equação e duas incógnitas, fomos para um sistema com 3 incógnitas $(x_1, x_2, \\lambda)$ e 3 equações, a saber:\n",
    "\n",
    "\\begin{equation}\n",
    "    \\begin{cases}\n",
    "      x_1 + x_2 -1 = 0  \\ \\ \\ \\ \\ \\ \\ \\ \\ \\ \\ \\ \\ (1)\\\\\n",
    "      \\frac{x_1}{\\sqrt{x_{1}^{2}+x_{2}^{2}}} + 1.0 \\ \\lambda = 0 \\ \\ \\ \\ \\ \\ (2) \\\\\n",
    "      \\frac{x_2}{\\sqrt{x_{1}^{2}+x_{2}^{2}}} + 1.0 \\ \\lambda = 0 \\ \\ \\ \\ \\ \\ (3)\n",
    "    \\end{cases}\\\n",
    "\\end{equation}\n",
    "\n",
    "Fazendo (2) - (3): $x_1 = x_2$ (4). Colocando (4) em (1) vemos que $2 x_1 - 1 = 0$, $x_1 = x_2 = 1/2$.\n",
    "\n",
    "Com um problema tão pequeno, é fácil montar o problema na mão e resolver. Mas vamos usar o **cvxpy** para montar e resolver o problema computacionalmente."
   ]
  },
  {
   "cell_type": "code",
   "execution_count": 62,
   "id": "4d665578",
   "metadata": {},
   "outputs": [
    {
     "name": "stdout",
     "output_type": "stream",
     "text": [
      "Sol: [0.5 0.5]\n"
     ]
    }
   ],
   "source": [
    "# Model\n",
    "A = np.array([1.0, 1.0])\n",
    "\n",
    "# Measurement\n",
    "b = 1.0\n",
    "\n",
    "# Create variable to be solved for.\n",
    "x = cp.Variable(shape = 2)\n",
    "\n",
    "# Create constraint.\n",
    "constraints = [A@x - b == 0]\n",
    "\n",
    "# Form objective.\n",
    "obj = cp.Minimize(cp.norm(x, 2))\n",
    "\n",
    "# Form and solve problem.\n",
    "prob = cp.Problem(obj, constraints)\n",
    "prob.solve();\n",
    "\n",
    "print(\"Sol: {}\".format(x.value))"
   ]
  },
  {
   "cell_type": "markdown",
   "id": "776d4a1c",
   "metadata": {},
   "source": [
    "# 3. Estabilidade da solução\n",
    "\n",
    "A condição de estabilidade é muito mais difícil de \"lidar\" porque uma violação implica que perturbações arbitrariamente pequenas **nos dados medidos** podem produzir **perturbações arbitrariamente grandes na solução**. Pelo menos, isto é verdade para problemas de dimensão infinita; para problemas de dimensão finita, a perturbação é sempre finita, mas isto é irrelevante se a perturbação da solução for, digamos, da ordem de $10^{12}$.\n",
    "\n",
    "Mais uma vez, a chave é reformular o problema de modo a que a nova solução seja menos sensível às perturbações. Dizemos que estabilizamos ou **regularizamos** o problema, de modo a que a solução se torne mais estável e regular. \n",
    "\n",
    "Talvez impor uma restrição do tipo $\\left\\|\\textbf{Ax -  b}\\right\\|^{2}_{2} = 0$ não seja realista. Podemos pensar no seguinte. Toda medição vai ter uma contaminação por ruído, de forma que:\n",
    "\n",
    "\\begin{equation}\n",
    "\\textbf{A x} = \\textbf{b} + \\textbf{n} \n",
    "\\end{equation}\n",
    "\n",
    "assim, podemos pensar que a norma $\\ell_2$ do resíduo, $\\left\\|\\textbf{Ax -  b}\\right\\|^{2}_{2} \\leq \\left\\|\\textbf{n}\\right\\|^{2}_{2}$, estará limitado ao ruído, e escrever:\n",
    "\n",
    "\\begin{equation}\n",
    "\\text{min}(\\left\\|\\textbf{x}\\right\\|^{2}_{2}), \\ \\ \\, \\text{subjected to} \\ \\ \\ \\left\\|\\textbf{Ax -  b}\\right\\|^{2}_{2} \\leq \\left\\|\\textbf{n}\\right\\|^{2}_{2}\n",
    "\\end{equation}\n",
    "\n",
    "de forma que o resíduo entre modelo e medição seja menor que o ruído presente na medição."
   ]
  },
  {
   "cell_type": "code",
   "execution_count": 70,
   "id": "b97320e8",
   "metadata": {},
   "outputs": [
    {
     "name": "stdout",
     "output_type": "stream",
     "text": [
      "SNR: [22.11582]\n",
      "Sol: [0.46081 0.46081]\n"
     ]
    }
   ],
   "source": [
    "# Model\n",
    "A = np.array([1.0, 1.0])\n",
    "\n",
    "# Measurement\n",
    "b = 1.0\n",
    "n = np.random.normal(loc = 0.0, scale = 0.05, size = 1)\n",
    "bn = b + n\n",
    "\n",
    "# Create variable to be solved for.\n",
    "x = cp.Variable(shape = 2)\n",
    "\n",
    "# Create constraint.\n",
    "constraints = [cp.norm(A@x - b, 2) <= cp.norm(n,2)]\n",
    "\n",
    "# Form objective.\n",
    "obj = cp.Minimize(cp.norm(x, 2))\n",
    "\n",
    "# Form and solve problem.\n",
    "prob = cp.Problem(obj, constraints)\n",
    "prob.solve();\n",
    "\n",
    "print(\"SNR: {}\".format(-10*np.log10(np.abs(n)**2/np.abs(b)**2)))\n",
    "print(\"Sol: {}\".format(x.value))"
   ]
  },
  {
   "cell_type": "markdown",
   "id": "0e0bf476",
   "metadata": {},
   "source": [
    "### Vamos considerar mais um exemplo com \"3 equações\" e 2 incógnitas:\n",
    "\n",
    "\\begin{gather}\n",
    "\\begin{bmatrix} 0.16 & 0.10 \\\\ 0.17 & 0.11 \\\\ 2.02 & 1.29 \\end{bmatrix} \\ \\textbf{x} = \n",
    "\\begin{bmatrix} 0.26 \\\\ 0.28 \\\\ 3.31 \\end{bmatrix} + \\textbf{n}\n",
    "\\end{gather}\n",
    "\n",
    "Neste caso \n",
    "\n",
    "\\begin{gather}\n",
    "\\textbf{x}_{\\text{exact}} =  \n",
    "\\begin{bmatrix} 1.00 \\\\ 1.00 \\end{bmatrix}\n",
    "\\end{gather}"
   ]
  },
  {
   "cell_type": "code",
   "execution_count": 110,
   "id": "f98d29ca",
   "metadata": {},
   "outputs": [
    {
     "name": "stdout",
     "output_type": "stream",
     "text": [
      "Modelo:\n",
      " [[0.16 0.1 ]\n",
      " [0.17 0.11]\n",
      " [2.02 1.29]]\n",
      "Medição exata (s/ ruído):\n",
      " [0.26 0.28 3.31]\n",
      "Sol exata: [1 1]\n",
      "Norma da sol.: 1.41\n"
     ]
    }
   ],
   "source": [
    "A = np.array([[0.16, 0.10],[0.17, 0.11],[2.02, 1.29]])\n",
    "x_exact = np.array([1, 1]).T \n",
    "b_exact = A @ x_exact\n",
    "\n",
    "print(\"Modelo:\\n {}\".format(A))\n",
    "print(\"Medição exata (s/ ruído):\\n {}\".format(b_exact))\n",
    "print(\"Sol exata: {}\".format(x_exact))\n",
    "print(\"Norma da sol.: {:.2f}\".format(np.linalg.norm(x_exact)))"
   ]
  },
  {
   "cell_type": "markdown",
   "id": "9b8bf104",
   "metadata": {},
   "source": [
    "### Agora, adicionamos ruído e notamos que a solução por mínimos quadrados não é estável.\n",
    "\n",
    "Isto está ligado ao fato de que a matriz $\\textbf{A}$ é mal-condicionada."
   ]
  },
  {
   "cell_type": "code",
   "execution_count": 107,
   "id": "efc65eb5",
   "metadata": {},
   "outputs": [
    {
     "name": "stdout",
     "output_type": "stream",
     "text": [
      "Medição (c/ ruído):\n",
      " [0.24903 0.29592 3.29981]\n",
      "Sol. estimada: [-3.34547  7.79737]\n",
      "Norma da sol.: 8.48\n",
      "Erro: [-4.34547  6.79737]\n",
      "Rank of A: 2\n"
     ]
    }
   ],
   "source": [
    "n = np.random.normal(loc = 0.0, scale = 0.01, size = len(b_exact))\n",
    "bn = b_exact + n\n",
    "\n",
    "# Solution 2\n",
    "x_est, residuals, rank , sigmas = np.linalg.lstsq(A, bn, rcond = None)\n",
    "\n",
    "print(\"Medição (c/ ruído):\\n {}\".format(bn))\n",
    "print(\"Sol. estimada: {}\".format(x_est))\n",
    "print(\"Norma da sol.: {:.2f}\".format(np.linalg.norm(x_est)))\n",
    "print(\"Erro: {}\".format(x_est-x_exact))\n",
    "print(\"Rank of A: {}\".format(rank))"
   ]
  },
  {
   "cell_type": "markdown",
   "id": "f3f5b8ad",
   "metadata": {},
   "source": [
    "### Vamos reformular o problema para\n",
    "\n",
    "\\begin{equation}\n",
    "\\text{min}(\\left\\|\\textbf{x}\\right\\|^{2}_{2}), \\ \\ \\, \\text{subjected to} \\ \\ \\ \\left\\|\\textbf{Ax -  b}\\right\\|^{2}_{2} \\leq \\left\\|\\textbf{n}\\right\\|^{2}_{2}\n",
    "\\end{equation}"
   ]
  },
  {
   "cell_type": "code",
   "execution_count": 119,
   "id": "5a9a59d0",
   "metadata": {},
   "outputs": [
    {
     "name": "stdout",
     "output_type": "stream",
     "text": [
      "Sol: [1.05938 0.90681]\n",
      "Norma da sol.: 1.39\n",
      "Erro: [ 0.05938 -0.09319]\n"
     ]
    }
   ],
   "source": [
    "n = np.random.normal(loc = 0.0, scale = 0.001, size = len(b_exact))\n",
    "bn = b_exact + n\n",
    "\n",
    "# Create variable to be solved for.\n",
    "x_est = cp.Variable(shape = 2)\n",
    "\n",
    "# Create constraint.\n",
    "constraints = [cp.norm(A @ x_est - bn, 2) <= cp.norm(n,2)]\n",
    "\n",
    "# Form objective.\n",
    "obj = cp.Minimize(cp.norm(x_est, 2))\n",
    "\n",
    "# Form and solve problem.\n",
    "prob = cp.Problem(obj, constraints)\n",
    "prob.solve();\n",
    "\n",
    "print(\"Sol: {}\".format(x_est.value))\n",
    "print(\"Norma da sol.: {:.2f}\".format(np.linalg.norm(x_est.value)))\n",
    "print(\"Erro: {}\".format(x_est.value-x_exact))\n"
   ]
  }
 ],
 "metadata": {
  "kernelspec": {
   "display_name": "Python 3 (ipykernel)",
   "language": "python",
   "name": "python3"
  },
  "language_info": {
   "codemirror_mode": {
    "name": "ipython",
    "version": 3
   },
   "file_extension": ".py",
   "mimetype": "text/x-python",
   "name": "python",
   "nbconvert_exporter": "python",
   "pygments_lexer": "ipython3",
   "version": "3.10.9"
  }
 },
 "nbformat": 4,
 "nbformat_minor": 5
}
